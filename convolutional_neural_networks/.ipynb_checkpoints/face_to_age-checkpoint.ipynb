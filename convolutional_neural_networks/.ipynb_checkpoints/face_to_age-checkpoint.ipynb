{
 "cells": [
  {
   "cell_type": "markdown",
   "metadata": {
    "id": "WCk2YEqBhdP2"
   },
   "source": [
    "# Face Detection Challenge"
   ]
  },
  {
   "cell_type": "code",
   "execution_count": 1,
   "metadata": {
    "executionInfo": {
     "elapsed": 3224,
     "status": "ok",
     "timestamp": 1615229786391,
     "user": {
      "displayName": "Bruno Lajoie",
      "photoUrl": "https://lh3.googleusercontent.com/a-/AOh14Gg0dl6gThG8gOPbCvHbgt62zQnsi8cgbQ7C5HkD_Cg=s64",
      "userId": "15793030209206844069"
     },
     "user_tz": -60
    },
    "id": "ZH4sxIwVqhAV"
   },
   "outputs": [],
   "source": [
    "import numpy as np \n",
    "import pandas as pd"
   ]
  },
  {
   "cell_type": "markdown",
   "metadata": {
    "id": "JBXc4442fJZV"
   },
   "source": [
    "### Objectives\n",
    "-  visualize images\n",
    "-  preprocess images for Neural Networks\n",
    "-  fit a custom CNN for a regression task\n",
    "-  fine-tune a analyse model performance"
   ]
  },
  {
   "cell_type": "markdown",
   "metadata": {
    "id": "gv76LFXjqzau"
   },
   "source": [
    "## 1. Visualize images"
   ]
  },
  {
   "cell_type": "markdown",
   "metadata": {},
   "source": [
    "👉 Load the dataset (200 Mo)"
   ]
  },
  {
   "cell_type": "code",
   "execution_count": 24,
   "metadata": {
    "executionInfo": {
     "elapsed": 10102,
     "status": "ok",
     "timestamp": 1615229794824,
     "user": {
      "displayName": "Bruno Lajoie",
      "photoUrl": "https://lh3.googleusercontent.com/a-/AOh14Gg0dl6gThG8gOPbCvHbgt62zQnsi8cgbQ7C5HkD_Cg=s64",
      "userId": "15793030209206844069"
     },
     "user_tz": -60
    },
    "id": "2tZUrTCepyPs"
   },
   "outputs": [
    {
     "data": {
      "text/html": [
       "<div>\n",
       "<style scoped>\n",
       "    .dataframe tbody tr th:only-of-type {\n",
       "        vertical-align: middle;\n",
       "    }\n",
       "\n",
       "    .dataframe tbody tr th {\n",
       "        vertical-align: top;\n",
       "    }\n",
       "\n",
       "    .dataframe thead th {\n",
       "        text-align: right;\n",
       "    }\n",
       "</style>\n",
       "<table border=\"1\" class=\"dataframe\">\n",
       "  <thead>\n",
       "    <tr style=\"text-align: right;\">\n",
       "      <th></th>\n",
       "      <th>age</th>\n",
       "      <th>pixels</th>\n",
       "    </tr>\n",
       "  </thead>\n",
       "  <tbody>\n",
       "    <tr>\n",
       "      <th>0</th>\n",
       "      <td>1</td>\n",
       "      <td>129 128 128 126 127 130 133 135 139 142 145 14...</td>\n",
       "    </tr>\n",
       "    <tr>\n",
       "      <th>1</th>\n",
       "      <td>1</td>\n",
       "      <td>164 74 111 168 169 171 175 182 184 188 193 199...</td>\n",
       "    </tr>\n",
       "    <tr>\n",
       "      <th>2</th>\n",
       "      <td>1</td>\n",
       "      <td>67 70 71 70 69 67 70 79 90 103 116 132 145 155...</td>\n",
       "    </tr>\n",
       "    <tr>\n",
       "      <th>3</th>\n",
       "      <td>1</td>\n",
       "      <td>193 197 198 200 199 200 202 203 204 205 208 21...</td>\n",
       "    </tr>\n",
       "    <tr>\n",
       "      <th>4</th>\n",
       "      <td>1</td>\n",
       "      <td>202 205 209 210 209 209 210 211 212 214 218 21...</td>\n",
       "    </tr>\n",
       "    <tr>\n",
       "      <th>...</th>\n",
       "      <td>...</td>\n",
       "      <td>...</td>\n",
       "    </tr>\n",
       "    <tr>\n",
       "      <th>23700</th>\n",
       "      <td>99</td>\n",
       "      <td>127 100 94 81 77 77 74 99 102 98 128 145 160 1...</td>\n",
       "    </tr>\n",
       "    <tr>\n",
       "      <th>23701</th>\n",
       "      <td>99</td>\n",
       "      <td>23 28 32 35 42 47 68 85 98 103 113 117 130 129...</td>\n",
       "    </tr>\n",
       "    <tr>\n",
       "      <th>23702</th>\n",
       "      <td>99</td>\n",
       "      <td>59 50 37 40 34 19 30 101 156 170 177 184 187 1...</td>\n",
       "    </tr>\n",
       "    <tr>\n",
       "      <th>23703</th>\n",
       "      <td>99</td>\n",
       "      <td>45 108 120 156 206 197 140 180 191 199 204 207...</td>\n",
       "    </tr>\n",
       "    <tr>\n",
       "      <th>23704</th>\n",
       "      <td>99</td>\n",
       "      <td>156 161 160 165 170 173 166 177 183 191 187 18...</td>\n",
       "    </tr>\n",
       "  </tbody>\n",
       "</table>\n",
       "<p>23705 rows × 2 columns</p>\n",
       "</div>"
      ],
      "text/plain": [
       "       age                                             pixels\n",
       "0        1  129 128 128 126 127 130 133 135 139 142 145 14...\n",
       "1        1  164 74 111 168 169 171 175 182 184 188 193 199...\n",
       "2        1  67 70 71 70 69 67 70 79 90 103 116 132 145 155...\n",
       "3        1  193 197 198 200 199 200 202 203 204 205 208 21...\n",
       "4        1  202 205 209 210 209 209 210 211 212 214 218 21...\n",
       "...    ...                                                ...\n",
       "23700   99  127 100 94 81 77 77 74 99 102 98 128 145 160 1...\n",
       "23701   99  23 28 32 35 42 47 68 85 98 103 113 117 130 129...\n",
       "23702   99  59 50 37 40 34 19 30 101 156 170 177 184 187 1...\n",
       "23703   99  45 108 120 156 206 197 140 180 191 199 204 207...\n",
       "23704   99  156 161 160 165 170 173 166 177 183 191 187 18...\n",
       "\n",
       "[23705 rows x 2 columns]"
      ]
     },
     "execution_count": 24,
     "metadata": {},
     "output_type": "execute_result"
    }
   ],
   "source": [
    "data = pd.read_csv(\"https://wagon-public-datasets.s3.amazonaws.com/certification_paris_2021Q1/images.csv\")\n",
    "data"
   ]
  },
  {
   "cell_type": "markdown",
   "metadata": {
    "ExecuteTime": {
     "end_time": "2021-03-12T10:04:13.153735Z",
     "start_time": "2021-03-12T10:04:13.148224Z"
    }
   },
   "source": [
    "Each row represent the image of a face in black and white\n",
    "- `age` is the age in year\n",
    "- `pixels` contains the 2304 (= 48 * 48) flatten values of each pixel in the image, in a black scale from 0 to 255, stored as string"
   ]
  },
  {
   "cell_type": "markdown",
   "metadata": {},
   "source": [
    "❓ Plot the histogram of age in your dataset"
   ]
  },
  {
   "cell_type": "code",
   "execution_count": 25,
   "metadata": {},
   "outputs": [],
   "source": [
    "### TODO\n",
    "import matplotlib.pyplot as plt\n",
    "import seaborn as sns"
   ]
  },
  {
   "cell_type": "code",
   "execution_count": 26,
   "metadata": {},
   "outputs": [
    {
     "data": {
      "text/plain": [
       "<AxesSubplot:xlabel='age', ylabel='Count'>"
      ]
     },
     "execution_count": 26,
     "metadata": {},
     "output_type": "execute_result"
    },
    {
     "data": {
      "image/png": "[encoded data removed]",
      "text/plain": [
       "<Figure size 432x288 with 1 Axes>"
      ]
     },
     "metadata": {
      "needs_background": "light"
     },
     "output_type": "display_data"
    }
   ],
   "source": [
    "sns.histplot(data['age'])"
   ]
  },
  {
   "cell_type": "markdown",
   "metadata": {
    "id": "JQ1ew-IAwUNL"
   },
   "source": [
    "❓ Visually display one image of your choice."
   ]
  },
  {
   "cell_type": "code",
   "execution_count": 27,
   "metadata": {
    "colab": {
     "base_uri": "https://localhost:8080/",
     "height": 284
    },
    "executionInfo": {
     "elapsed": 594,
     "status": "ok",
     "timestamp": 1615229800246,
     "user": {
      "displayName": "Bruno Lajoie",
      "photoUrl": "https://lh3.googleusercontent.com/a-/AOh14Gg0dl6gThG8gOPbCvHbgt62zQnsi8cgbQ7C5HkD_Cg=s64",
      "userId": "15793030209206844069"
     },
     "user_tz": -60
    },
    "id": "q9dLVirWwMoE",
    "outputId": "cd8b8794-35ff-4405-cef7-15909a03b846"
   },
   "outputs": [
    {
     "data": {
      "text/plain": [
       "<matplotlib.image.AxesImage at 0x11aeac460>"
      ]
     },
     "execution_count": 27,
     "metadata": {},
     "output_type": "execute_result"
    },
    {
     "data": {
      "image/png": "[encoded data removed]",
      "text/plain": [
       "<Figure size 432x288 with 1 Axes>"
      ]
     },
     "metadata": {
      "needs_background": "light"
     },
     "output_type": "display_data"
    }
   ],
   "source": [
    "### TODO\n",
    "\n",
    "# plt.imshow(data.pixels[1], cmap=plt.cm.gray)\n",
    "\n",
    "image = np.fromstring(data.pixels[10000],sep=' ').astype(int)\n",
    "image = image.reshape(48, 48)\n",
    "plt.imshow(image, cmap=plt.cm.gray)"
   ]
  },
  {
   "cell_type": "markdown",
   "metadata": {},
   "source": [
    "❓ What is the physical characteristic of the image at **index** `10000`?"
   ]
  },
  {
   "cell_type": "code",
   "execution_count": 12,
   "metadata": {},
   "outputs": [],
   "source": [
    "# Store your result in the variable below\n",
    "\n",
    "gender = \"male\"\n",
    "# gender = \"female\"\n",
    "\n",
    "# smile = True\n",
    "smile = False"
   ]
  },
  {
   "cell_type": "code",
   "execution_count": 13,
   "metadata": {},
   "outputs": [],
   "source": [
    "from nbresult import ChallengeResult\n",
    "result = ChallengeResult('C14',\n",
    "                         gender=gender,\n",
    "                         smile=smile)\n",
    "result.write()"
   ]
  },
  {
   "cell_type": "markdown",
   "metadata": {
    "id": "AjeMU0GTwFSe"
   },
   "source": [
    "## 2. Processing"
   ]
  },
  {
   "cell_type": "markdown",
   "metadata": {},
   "source": [
    "❓ Your goal is to train a convolutional neural network model to predict the age of a person based solely on a picture of his/her face.\n",
    "- Create your feature matrix `X` as nparray of shape suited for a CNN, scaled between 0 and 1\n",
    "- Create your target vector `y`\n",
    "- Create a holdout set (`X_train`, `y_train`) (`X_test`, `y_test`) keeping `30%` in the test set, randomly sampled out of the whole dataset\n",
    "\n",
    "😌 Don't worry, you will be given the solution in the next question in case you don't make it"
   ]
  },
  {
   "cell_type": "code",
   "execution_count": 31,
   "metadata": {},
   "outputs": [],
   "source": [
    "## YOUR CODE\n",
    "from sklearn.preprocessing import MinMaxScaler\n",
    "def img_transformer(pixel):\n",
    "    image = np.fromstring(pixel, dtype=int, sep=' ').reshape(48, 48)\n",
    "    scaler = MinMaxScaler()\n",
    "    return scaler.fit_transform(image)"
   ]
  },
  {
   "cell_type": "code",
   "execution_count": 32,
   "metadata": {},
   "outputs": [],
   "source": [
    "data['pixels_tran'] = data['pixels'].apply(lambda x: img_transformer(x))"
   ]
  },
  {
   "cell_type": "code",
   "execution_count": 36,
   "metadata": {},
   "outputs": [],
   "source": [
    "X = list(data['pixels_tran'])\n",
    "y = data['age']"
   ]
  },
  {
   "cell_type": "code",
   "execution_count": 38,
   "metadata": {},
   "outputs": [],
   "source": [
    "from sklearn.model_selection import train_test_split\n",
    "X_train, X_test, y_train, y_test = train_test_split(X, y, test_size=0.3)"
   ]
  },
  {
   "cell_type": "code",
   "execution_count": null,
   "metadata": {},
   "outputs": [],
   "source": [
    "X_train.shape"
   ]
  },
  {
   "cell_type": "code",
   "execution_count": null,
   "metadata": {},
   "outputs": [],
   "source": [
    "from nbresult import ChallengeResult\n",
    "result = ChallengeResult('C1415', \n",
    "                         X_train_shape = X_train.shape,\n",
    "                         y_train_shape = y_train.shape,\n",
    "                         first_image = X_train[0]\n",
    "                        )\n",
    "result.write()"
   ]
  },
  {
   "cell_type": "markdown",
   "metadata": {
    "id": "3bSHDYC8OlrL"
   },
   "source": [
    "## Convolutional Neural Network for Age prediction"
   ]
  },
  {
   "cell_type": "markdown",
   "metadata": {},
   "source": [
    "❓ Build a convolutional neural network\n",
    "\n",
    "- Do not use transfer learning\n",
    "- Store number of trainable parameters in a variable `params_number`\n",
    "- Plot your metric & loss at each epoch\n",
    "- make sure your model does not overfit with appropriate control techniques\n",
    "- Compute the mean absolute error on your test set and store it as `mae_test`\n",
    "- Compute, store and compare it with a `mae_baseline`\n",
    "\n",
    "💡 You will not be judged by the computing power of your computer, but you should obtain significantly better performance than the baseline in less than 3 minutes, even without GPUs"
   ]
  },
  {
   "cell_type": "markdown",
   "metadata": {},
   "source": [
    "👉 Feel free to start back from the solution by running the cell below (~500Mo download)"
   ]
  },
  {
   "cell_type": "code",
   "execution_count": 22,
   "metadata": {},
   "outputs": [
    {
     "name": "stdout",
     "output_type": "stream",
     "text": [
      "  % Total    % Received % Xferd  Average Speed   Time    Time     Time  Current\n",
      "                                 Dload  Upload   Total   Spent    Left  Speed\n",
      "100  291M  100  291M    0     0  13.0M      0  0:00:22  0:00:22 --:--:-- 13.4M\n",
      "  % Total    % Received % Xferd  Average Speed   Time    Time     Time  Current\n",
      "                                 Dload  Upload   Total   Spent    Left  Speed\n",
      "100  125M  100  125M    0     0  11.7M      0  0:00:10  0:00:10 --:--:-- 12.5M:00:11  0:00:03  0:00:08 10.5M\n",
      "  % Total    % Received % Xferd  Average Speed   Time    Time     Time  Current\n",
      "                                 Dload  Upload   Total   Spent    Left  Speed\n",
      "100  129k  100  129k    0     0   529k      0 --:--:-- --:--:-- --:--:--  529k\n",
      "  % Total    % Received % Xferd  Average Speed   Time    Time     Time  Current\n",
      "                                 Dload  Upload   Total   Spent    Left  Speed\n",
      "100 57023  100 57023    0     0   265k      0 --:--:-- --:--:-- --:--:--  263k\n"
     ]
    }
   ],
   "source": [
    "import pickle\n",
    "\n",
    "file_names = [\"images_X_train.pickle\", \"images_X_test.pickle\", \"images_y_train.pickle\", \"images_y_test.pickle\"]\n",
    "pickles = dict()\n",
    "\n",
    "for file_name in file_names:\n",
    "    url = f\"https://wagon-public-datasets.s3.amazonaws.com/certification_paris_2021Q1/{file_name}\"\n",
    "    command = f\"curl --output {file_name} {url}\"\n",
    "    ! eval {command}\n",
    "    with open(file_name, 'rb') as handle:\n",
    "        pickles[file_name] = pickle.load(handle)\n",
    "    command = f\"rm {file_name}\"\n",
    "    ! eval {command}\n",
    "        \n",
    "X_train, X_test, y_train, y_test = pickles.values()"
   ]
  },
  {
   "cell_type": "code",
   "execution_count": null,
   "metadata": {},
   "outputs": [],
   "source": [
    "### YOUR CODE"
   ]
  },
  {
   "cell_type": "code",
   "execution_count": null,
   "metadata": {},
   "outputs": [],
   "source": [
    "from nbresult import ChallengeResult\n",
    "result = ChallengeResult('C1516',\n",
    "                         params_number=params_number,\n",
    "                         mae_baseline = mae_baseline,\n",
    "                         mae_test = mae_test,\n",
    "                        )\n",
    "result.write()"
   ]
  }
 ],
 "metadata": {
  "accelerator": "GPU",
  "colab": {
   "authorship_tag": "ABX9TyMOYn4GJAg9EKtu1bGhcoI1",
   "collapsed_sections": [],
   "name": "certification_DL_images",
   "provenance": [],
   "toc_visible": true
  },
  "kernelspec": {
   "display_name": "Python 3",
   "language": "python",
   "name": "python3"
  },
  "language_info": {
   "codemirror_mode": {
    "name": "ipython",
    "version": 3
   },
   "file_extension": ".py",
   "mimetype": "text/x-python",
   "name": "python",
   "nbconvert_exporter": "python",
   "pygments_lexer": "ipython3",
   "version": "3.8.6"
  },
  "toc": {
   "base_numbering": 1,
   "nav_menu": {},
   "number_sections": false,
   "sideBar": true,
   "skip_h1_title": false,
   "title_cell": "Table of Contents",
   "title_sidebar": "Contents",
   "toc_cell": false,
   "toc_position": {},
   "toc_section_display": true,
   "toc_window_display": true
  },
  "varInspector": {
   "cols": {
    "lenName": 16,
    "lenType": 16,
    "lenVar": 40
   },
   "kernels_config": {
    "python": {
     "delete_cmd_postfix": "",
     "delete_cmd_prefix": "del ",
     "library": "var_list.py",
     "varRefreshCmd": "print(var_dic_list())"
    },
    "r": {
     "delete_cmd_postfix": ") ",
     "delete_cmd_prefix": "rm(",
     "library": "var_list.r",
     "varRefreshCmd": "cat(var_dic_list()) "
    }
   },
   "types_to_exclude": [
    "module",
    "function",
    "builtin_function_or_method",
    "instance",
    "_Feature"
   ],
   "window_display": false
  }
 },
 "nbformat": 4,
 "nbformat_minor": 1
}
